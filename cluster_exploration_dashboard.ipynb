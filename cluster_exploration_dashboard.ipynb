{
 "cells": [
  {
   "cell_type": "markdown",
   "metadata": {},
   "source": [
    "```mermaid\n",
    "    graph TD;\n",
    "        A[Start] --> B[Install Dash and Plotly]\n",
    "        B --> C[Import Libraries]\n",
    "        C --> D[Load Data]\n",
    "        D --> E[Create Scatterplot with Plotly Express]\n",
    "        E --> F[Initialize Dash App]\n",
    "        F --> G[Define App Layout]\n",
    "        G --> H[Add dcc.Graph for Scatterplot]\n",
    "        H --> I[Run the App]\n",
    "        I --> J[View Dashboard in Browser]\n",
    "        J --> K[End]\n",
    "```\n"
   ]
  },
  {
   "cell_type": "code",
   "execution_count": 1,
   "metadata": {},
   "outputs": [],
   "source": [
    "from dash import Dash, dcc, html\n",
    "import plotly.express as px\n",
    "import pandas as pd"
   ]
  },
  {
   "cell_type": "code",
   "execution_count": 2,
   "metadata": {},
   "outputs": [],
   "source": [
    "df = pd.read_csv('data/values_cluster_results_fivegroup.csv')"
   ]
  },
  {
   "cell_type": "code",
   "execution_count": 3,
   "metadata": {},
   "outputs": [],
   "source": [
    "app = Dash(__name__)"
   ]
  },
  {
   "cell_type": "code",
   "execution_count": 6,
   "metadata": {},
   "outputs": [
    {
     "data": {
      "text/html": [
       "\n",
       "        <iframe\n",
       "            width=\"100%\"\n",
       "            height=\"650\"\n",
       "            src=\"http://127.0.0.1:8050/\"\n",
       "            frameborder=\"0\"\n",
       "            allowfullscreen\n",
       "            \n",
       "        ></iframe>\n",
       "        "
      ],
      "text/plain": [
       "<IPython.lib.display.IFrame at 0x2062c887590>"
      ]
     },
     "metadata": {},
     "output_type": "display_data"
    }
   ],
   "source": [
    "from dash.dependencies import Output, Input\n",
    "\n",
    "# Define the app layout with dropdowns\n",
    "app.layout = html.Div([\n",
    "    dcc.Dropdown(\n",
    "        id='x-axis-dropdown',\n",
    "        options=[{'label': col, 'value': col} for col in df.columns],\n",
    "        value='age',  # default value\n",
    "        clearable=False\n",
    "    ),\n",
    "    dcc.Dropdown(\n",
    "        id='y-axis-dropdown',\n",
    "        options=[{'label': col, 'value': col} for col in df.columns],\n",
    "        value='gender',  # default value\n",
    "        clearable=False\n",
    "    ),\n",
    "    dcc.Graph(id='scatter-plot')\n",
    "])\n",
    "\n",
    "# Add a callback to update the graph based on dropdown selection\n",
    "@app.callback(\n",
    "    Output('scatter-plot', 'figure'),\n",
    "    [Input('x-axis-dropdown', 'value'),\n",
    "     Input('y-axis-dropdown', 'value')]\n",
    ")\n",
    "def update_graph(x_axis, y_axis):\n",
    "    fig = px.scatter(df, x=x_axis, y=y_axis, color='cluster')\n",
    "    return fig\n",
    "\n",
    "if __name__ == '__main__':\n",
    "    app.run_server(debug=False)"
   ]
  },
  {
   "cell_type": "markdown",
   "metadata": {},
   "source": [
    "## 3-D Exploration Dashboard"
   ]
  },
  {
   "cell_type": "code",
   "execution_count": 5,
   "metadata": {},
   "outputs": [
    {
     "data": {
      "text/html": [
       "\n",
       "        <iframe\n",
       "            width=\"100%\"\n",
       "            height=\"650\"\n",
       "            src=\"http://127.0.0.1:8050/\"\n",
       "            frameborder=\"0\"\n",
       "            allowfullscreen\n",
       "            \n",
       "        ></iframe>\n",
       "        "
      ],
      "text/plain": [
       "<IPython.lib.display.IFrame at 0x2062c7d2ed0>"
      ]
     },
     "metadata": {},
     "output_type": "display_data"
    },
    {
     "name": "stdout",
     "output_type": "stream",
     "text": [
      "---------------------------------------------------------------------------\n",
      "KeyError                                  Traceback (most recent call last)\n",
      "File c:\\Users\\justi\\AppData\\Local\\Programs\\Python\\Python312\\Lib\\site-packages\\dash\\dash.py:1307, in Dash.dispatch(self=<dash.dash.Dash object>)\n",
      "   1306 try:\n",
      "-> 1307     cb = self.callback_map[output]\n",
      "        output = 'scatter-plot.figure'\n",
      "        self.callback_map = {'3d-scatter-plot.figure': {'inputs': [{'id': 'x-axis-dropdown', 'property': 'value'}, {'id': 'y-axis-dropdown', 'property': 'value'}, {'id': 'z-axis-dropdown', 'property': 'value'}], 'state': [], 'outputs_indices': 0, 'inputs_state_indices': [0, 1, 2], 'long': None, 'output': <Output `3d-scatter-plot.figure`>, 'raw_inputs': [<Input `x-axis-dropdown.value`>, <Input `y-axis-dropdown.value`>, <Input `z-axis-dropdown.value`>], 'manager': None, 'allow_dynamic_callbacks': None, 'no_output': False, 'callback': <function update_graph at 0x000002062C8471A0>}}\n",
      "        self = <dash.dash.Dash object at 0x000002062C3D1730>\n",
      "   1308     func = cb[\"callback\"]\n",
      "\n",
      "KeyError: 'scatter-plot.figure'\n",
      "\n",
      "The above exception was the direct cause of the following exception:\n",
      "\n",
      "KeyError                                  Traceback (most recent call last)\n",
      "KeyError: \"Callback function not found for output 'scatter-plot.figure', perhaps you forgot to prepend the '@'?\"\n",
      "\n"
     ]
    }
   ],
   "source": [
    "from dash import Dash, dcc, html\n",
    "from dash.dependencies import Output, Input\n",
    "import plotly.graph_objs as go\n",
    "import pandas as pd\n",
    "\n",
    "# Load your data\n",
    "\n",
    "\n",
    "# Initialize the Dash app\n",
    "app = Dash(__name__)\n",
    "\n",
    "# Define the app layout\n",
    "app.layout = html.Div([\n",
    "    dcc.Dropdown(\n",
    "        id='x-axis-dropdown',\n",
    "        options=[{'label': col, 'value': col} for col in df.columns],\n",
    "        value=df.columns[0],  # default value\n",
    "        clearable=False\n",
    "    ),\n",
    "    dcc.Dropdown(\n",
    "        id='y-axis-dropdown',\n",
    "        options=[{'label': col, 'value': col} for col in df.columns],\n",
    "        value=df.columns[1],  # default value\n",
    "        clearable=False\n",
    "    ),\n",
    "    dcc.Dropdown(\n",
    "        id='z-axis-dropdown',\n",
    "        options=[{'label': col, 'value': col} for col in df.columns],\n",
    "        value=df.columns[2],  # default value\n",
    "        clearable=False\n",
    "    ),\n",
    "    dcc.Graph(id='3d-scatter-plot')\n",
    "])\n",
    "\n",
    "# Add a callback to update the graph based on dropdown selection\n",
    "@app.callback(\n",
    "    Output('3d-scatter-plot', 'figure'),\n",
    "    [Input('x-axis-dropdown', 'value'),\n",
    "     Input('y-axis-dropdown', 'value'),\n",
    "     Input('z-axis-dropdown', 'value')]\n",
    ")\n",
    "def update_graph(x_axis, y_axis, z_axis):\n",
    "    fig = go.Figure(data=[go.Scatter3d(\n",
    "        x=df[x_axis],\n",
    "        y=df[y_axis],\n",
    "        z=df[z_axis],\n",
    "        mode='markers',\n",
    "        marker=dict(\n",
    "            size=5,\n",
    "            color=df['cluster'],  # Assuming 'cluster' is a column for coloring\n",
    "            colorscale='Viridis',\n",
    "            opacity=0.8\n",
    "        )\n",
    "    )])\n",
    "    fig.update_layout(scene=dict(\n",
    "        xaxis_title=x_axis,\n",
    "        yaxis_title=y_axis,\n",
    "        zaxis_title=z_axis\n",
    "    ))\n",
    "    return fig\n",
    "\n",
    "# Run the app\n",
    "if __name__ == '__main__':\n",
    "    app.run_server(debug=True)\n",
    "\n"
   ]
  },
  {
   "cell_type": "code",
   "execution_count": 54,
   "metadata": {},
   "outputs": [
    {
     "data": {
      "text/html": [
       "<div>\n",
       "<style scoped>\n",
       "    .dataframe tbody tr th:only-of-type {\n",
       "        vertical-align: middle;\n",
       "    }\n",
       "\n",
       "    .dataframe tbody tr th {\n",
       "        vertical-align: top;\n",
       "    }\n",
       "\n",
       "    .dataframe thead th {\n",
       "        text-align: right;\n",
       "    }\n",
       "</style>\n",
       "<table border=\"1\" class=\"dataframe\">\n",
       "  <thead>\n",
       "    <tr style=\"text-align: right;\">\n",
       "      <th></th>\n",
       "      <th>age</th>\n",
       "      <th>account.age</th>\n",
       "    </tr>\n",
       "    <tr>\n",
       "      <th>cluster</th>\n",
       "      <th></th>\n",
       "      <th></th>\n",
       "    </tr>\n",
       "  </thead>\n",
       "  <tbody>\n",
       "    <tr>\n",
       "      <th>0</th>\n",
       "      <td>50.704251</td>\n",
       "      <td>14.719845</td>\n",
       "    </tr>\n",
       "    <tr>\n",
       "      <th>1</th>\n",
       "      <td>49.121560</td>\n",
       "      <td>14.021303</td>\n",
       "    </tr>\n",
       "    <tr>\n",
       "      <th>2</th>\n",
       "      <td>57.222222</td>\n",
       "      <td>16.613189</td>\n",
       "    </tr>\n",
       "    <tr>\n",
       "      <th>3</th>\n",
       "      <td>43.649733</td>\n",
       "      <td>12.141693</td>\n",
       "    </tr>\n",
       "    <tr>\n",
       "      <th>4</th>\n",
       "      <td>49.992322</td>\n",
       "      <td>11.021205</td>\n",
       "    </tr>\n",
       "  </tbody>\n",
       "</table>\n",
       "</div>"
      ],
      "text/plain": [
       "               age  account.age\n",
       "cluster                        \n",
       "0        50.704251    14.719845\n",
       "1        49.121560    14.021303\n",
       "2        57.222222    16.613189\n",
       "3        43.649733    12.141693\n",
       "4        49.992322    11.021205"
      ]
     },
     "execution_count": 54,
     "metadata": {},
     "output_type": "execute_result"
    }
   ],
   "source": [
    "# Average Age and account age for each cluster\n",
    "df.groupby('cluster')[['age', 'account.age']].mean()\n"
   ]
  },
  {
   "cell_type": "code",
   "execution_count": null,
   "metadata": {},
   "outputs": [],
   "source": [
    "df.groupby('cluster')[['age', 'account.age']].median()\n"
   ]
  },
  {
   "cell_type": "code",
   "execution_count": 56,
   "metadata": {},
   "outputs": [
    {
     "data": {
      "text/plain": [
       "cluster  main.focal.value             \n",
       "0        Environment                      126\n",
       "         Human/Civil rights               100\n",
       "         Education                         73\n",
       "         Hunger/Poverty                    71\n",
       "         Homelessness                      43\n",
       "         Health (i.e. cancer research)     37\n",
       "         Animal rights                     33\n",
       "         Specify                           23\n",
       "         Arts & culture                    20\n",
       "         Domestic abuse                    15\n",
       "1        Health (i.e. cancer research)     94\n",
       "         Education                         85\n",
       "         Hunger/Poverty                    60\n",
       "         Law enforcement                   42\n",
       "         Specify                           34\n",
       "         Human/Civil rights                33\n",
       "         Domestic abuse                    22\n",
       "         Animal rights                     21\n",
       "         Environment                       18\n",
       "         Homelessness                      15\n",
       "         Arts & culture                    12\n",
       "2        Health (i.e. cancer research)     86\n",
       "         Education                         82\n",
       "         Hunger/Poverty                    82\n",
       "         Environment                       63\n",
       "         Human/Civil rights                51\n",
       "         Law enforcement                   42\n",
       "         Animal rights                     39\n",
       "         Homelessness                      38\n",
       "         Domestic abuse                    30\n",
       "         Specify                           29\n",
       "         Arts & culture                     7\n",
       "3        Education                         72\n",
       "         Environment                       64\n",
       "         Health (i.e. cancer research)     64\n",
       "         Hunger/Poverty                    38\n",
       "         Human/Civil rights                36\n",
       "         Animal rights                     24\n",
       "         Specify                           22\n",
       "         Domestic abuse                    18\n",
       "         Homelessness                      14\n",
       "         Arts & culture                    11\n",
       "         Law enforcement                   11\n",
       "4        Education                         96\n",
       "         Hunger/Poverty                    85\n",
       "         Health (i.e. cancer research)     84\n",
       "         Environment                       59\n",
       "         Animal rights                     41\n",
       "         Human/Civil rights                36\n",
       "         Domestic abuse                    35\n",
       "         Homelessness                      35\n",
       "         Law enforcement                   30\n",
       "         Specify                           15\n",
       "         Arts & culture                     5\n",
       "Name: count, dtype: int64"
      ]
     },
     "execution_count": 56,
     "metadata": {},
     "output_type": "execute_result"
    }
   ],
   "source": [
    "# Most common focal value for each cluster\n",
    "df.groupby('cluster')['main.focal.value'].value_counts()\n",
    "\n",
    "\n"
   ]
  },
  {
   "cell_type": "code",
   "execution_count": 58,
   "metadata": {},
   "outputs": [
    {
     "data": {
      "text/html": [
       "<div>\n",
       "<style scoped>\n",
       "    .dataframe tbody tr th:only-of-type {\n",
       "        vertical-align: middle;\n",
       "    }\n",
       "\n",
       "    .dataframe tbody tr th {\n",
       "        vertical-align: top;\n",
       "    }\n",
       "\n",
       "    .dataframe thead th {\n",
       "        text-align: right;\n",
       "    }\n",
       "</style>\n",
       "<table border=\"1\" class=\"dataframe\">\n",
       "  <thead>\n",
       "    <tr style=\"text-align: right;\">\n",
       "      <th></th>\n",
       "      <th>pub.greater.priv</th>\n",
       "      <th>experience.more.important</th>\n",
       "      <th>teachers.underpaid</th>\n",
       "    </tr>\n",
       "    <tr>\n",
       "      <th>cluster</th>\n",
       "      <th></th>\n",
       "      <th></th>\n",
       "      <th></th>\n",
       "    </tr>\n",
       "  </thead>\n",
       "  <tbody>\n",
       "    <tr>\n",
       "      <th>0</th>\n",
       "      <td>3.436229</td>\n",
       "      <td>3.859519</td>\n",
       "      <td>5.423290</td>\n",
       "    </tr>\n",
       "    <tr>\n",
       "      <th>1</th>\n",
       "      <td>2.910550</td>\n",
       "      <td>4.126147</td>\n",
       "      <td>4.282110</td>\n",
       "    </tr>\n",
       "    <tr>\n",
       "      <th>2</th>\n",
       "      <td>3.244080</td>\n",
       "      <td>3.930783</td>\n",
       "      <td>4.919854</td>\n",
       "    </tr>\n",
       "    <tr>\n",
       "      <th>3</th>\n",
       "      <td>3.066845</td>\n",
       "      <td>3.983957</td>\n",
       "      <td>4.687166</td>\n",
       "    </tr>\n",
       "    <tr>\n",
       "      <th>4</th>\n",
       "      <td>3.166987</td>\n",
       "      <td>4.140115</td>\n",
       "      <td>4.948177</td>\n",
       "    </tr>\n",
       "  </tbody>\n",
       "</table>\n",
       "</div>"
      ],
      "text/plain": [
       "         pub.greater.priv  experience.more.important  teachers.underpaid\n",
       "cluster                                                                 \n",
       "0                3.436229                   3.859519            5.423290\n",
       "1                2.910550                   4.126147            4.282110\n",
       "2                3.244080                   3.930783            4.919854\n",
       "3                3.066845                   3.983957            4.687166\n",
       "4                3.166987                   4.140115            4.948177"
      ]
     },
     "execution_count": 58,
     "metadata": {},
     "output_type": "execute_result"
    }
   ],
   "source": [
    "# Mean results on the questions of `pub.greater.priv`, `experience.more.important`, and `teachers.underpaid` for each cluster\n",
    "df.groupby('cluster')[['pub.greater.priv', 'experience.more.important', 'teachers.underpaid']].mean()\n"
   ]
  },
  {
   "cell_type": "code",
   "execution_count": null,
   "metadata": {},
   "outputs": [],
   "source": []
  }
 ],
 "metadata": {
  "kernelspec": {
   "display_name": "Python 3",
   "language": "python",
   "name": "python3"
  },
  "language_info": {
   "codemirror_mode": {
    "name": "ipython",
    "version": 3
   },
   "file_extension": ".py",
   "mimetype": "text/x-python",
   "name": "python",
   "nbconvert_exporter": "python",
   "pygments_lexer": "ipython3",
   "version": "3.12.6"
  }
 },
 "nbformat": 4,
 "nbformat_minor": 2
}
