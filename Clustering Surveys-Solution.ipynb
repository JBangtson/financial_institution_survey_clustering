{
 "cells": [
  {
   "cell_type": "markdown",
   "metadata": {},
   "source": [
    "## Python Clustering\n",
    "\n",
    "This notebook does some clustering, making use of `clustering_code.py`, a file of functions taken from Joel's _Data Science from Scratch_. I recommend giving chapter 19 of that book a read as you work through this."
   ]
  },
  {
   "cell_type": "code",
   "execution_count": 1,
   "metadata": {},
   "outputs": [
    {
     "name": "stdout",
     "output_type": "stream",
     "text": [
      "Clustering Code Loaded\n"
     ]
    }
   ],
   "source": [
    "import clustering_code\n",
    "from collections import defaultdict\n",
    "from pprint import pprint\n",
    "\n",
    "input_file = \"survey_responses.txt\""
   ]
  },
  {
   "cell_type": "markdown",
   "metadata": {},
   "source": [
    "Now let's read in the data and put it in a default dictionary."
   ]
  },
  {
   "cell_type": "code",
   "execution_count": 3,
   "metadata": {},
   "outputs": [],
   "source": [
    "student_data = defaultdict(list)\n",
    "with open(input_file,'r') as ifile :\n",
    "    next(ifile)\n",
    "    for row in ifile.readlines() :\n",
    "        row = row.strip().split(\"\\t\")\n",
    "        this_student = row[1]\n",
    "        student_data[this_student] = row[2:]\n"
   ]
  },
  {
   "cell_type": "markdown",
   "metadata": {},
   "source": [
    "We need numerical data for clustering, so we'll convert over the Yes/No responses."
   ]
  },
  {
   "cell_type": "code",
   "execution_count": 4,
   "metadata": {},
   "outputs": [],
   "source": [
    "# Let's change No to 0 and Yes to 1, so everything is numerical\n",
    "for student in student_data :\n",
    "    this_data = student_data[student] # get the list of data \n",
    "    \n",
    "    for idx, item in enumerate(this_data) : # iterate over the list (and its index)\n",
    "        if item == \"No\" :\n",
    "            this_data[idx] = 0 # change the \"No\" spot to 0\n",
    "        elif item == \"Yes\" :\n",
    "            this_data[idx] = 1 # change the \"Yes\" spot to 1 \n",
    "            \n",
    "    student_data[student] = [float(item) for item in this_data] \n",
    "        # overwrite the old list with the new one. Also make everything numeric\n",
    "            "
   ]
  },
  {
   "cell_type": "code",
   "execution_count": 5,
   "metadata": {},
   "outputs": [
    {
     "name": "stdout",
     "output_type": "stream",
     "text": [
      "defaultdict(<class 'list'>,\n",
      "            {'Albee': [1012.0, 1023.0, 6.0, 0.0, 0.0, 3.0],\n",
      "             'Anderson': [700.0, 700.0, 5.0, 0.0, 1.0, 2.0],\n",
      "             'Bankston': [1273.0, 45.0, 6.0, 1.0, 1.0, 2.0],\n",
      "             'Barr': [1982.0, 5.0, 7.0, 0.0, 0.0, 1.0],\n",
      "             'Bernhard': [4505.0, 4514.0, 5.0, 0.0, 0.0, 2.0],\n",
      "             'Bosco Louis': [8279.0, 8279.0, 5.0, 0.0, 1.0, 1.0],\n",
      "             'Bu': [6756.0, 6756.0, 12.0, 0.0, 0.0, 2.0],\n",
      "             'Campestre': [8402.0, 2322.0, 6.0, 0.0, 0.0, 1.0],\n",
      "             'Cerkovnik': [272.0, 272.0, 5.0, 0.0, 1.0, 2.0],\n",
      "             'Connor': [1616.0, 1606.0, 5.0, 0.0, 0.0, 2.0],\n",
      "             'Daly': [731.0, 2993.0, 7.0, 0.0, 0.0, 1.0],\n",
      "             'Danicich': [478.0, 5.0, 5.0, 1.0, 1.0, 2.0],\n",
      "             'Dauenhauer': [3.0, 1.0, 5.0, 0.0, 1.0, 3.0],\n",
      "             'Engellant': [4814.0, 92.8, 4.5, 0.0, 0.0, 2.0],\n",
      "             'Fanok': [2303.0, 2303.0, 5.0, 0.0, 1.0, 2.0],\n",
      "             'Fowler': [1500.0, 1500.0, 8.0, 0.0, 0.0, 2.0],\n",
      "             'Gabrielsen': [276.0, 276.0, 6.0, 0.0, 1.0, 3.0],\n",
      "             'Ghazouani': [5700.0, 5700.0, 7.0, 0.0, 0.0, 4.0],\n",
      "             'Gilbert': [1579.0, 1579.0, 2.0, 0.0, 1.0, 4.0],\n",
      "             'Haefele': [0.7, 0.5, 6.0, 0.0, 1.0, 2.0],\n",
      "             'Halderman': [1782.0, 1906.0, 5.0, 1.0, 1.0, 2.0],\n",
      "             'Hauer': [1650.0, 70.0, 8.0, 0.0, 0.0, 7.0],\n",
      "             'Hendricks': [32.0, 32.0, 5.0, 0.0, 1.0, 4.0],\n",
      "             'Hettinger': [1157.0, 3.0, 5.0, 0.0, 1.0, 2.0],\n",
      "             'Hoffman': [272.0, 272.0, 6.0, 0.0, 1.0, 4.0],\n",
      "             'Howell': [2.0, 60.0, 21.0, 0.0, 0.0, 1.0],\n",
      "             'Joyner': [276.0, 583.0, 6.0, 0.0, 1.0, 2.0],\n",
      "             'Keith': [932.0, 952.0, 8.0, 0.0, 1.0, 5.0],\n",
      "             'Knowlton': [2571.0, 2580.0, 23.0, 0.0, 0.0, 1.0],\n",
      "             'Leonard': [1.0, 5.0, 10.0, 1.0, 1.0, 3.0],\n",
      "             'Martin': [1500.0, 60.0, 5.0, 1.0, 1.0, 2.0],\n",
      "             'McNea': [345.0, 345.0, 6.0, 0.0, 1.0, 1.0],\n",
      "             'Moore': [871.0, 892.0, 8.0, 0.0, 1.0, 4.0],\n",
      "             'Nelson': [2264.0, 2264.0, 6.0, 0.0, 0.0, 4.0],\n",
      "             'Niekamp': [875.0, 875.0, 10.0, 0.0, 0.0, 2.0],\n",
      "             'Parrent': [920.0, 920.0, 6.0, 0.0, 0.0, 3.0],\n",
      "             'Paul': [200.0, 200.0, 7.0, 0.0, 0.0, 2.0],\n",
      "             'Phillips': [723.0, 12.0, 6.0, 0.0, 0.0, 2.0],\n",
      "             'Robertson': [2000.0, 2500.0, 7.0, 0.0, 0.0, 3.0],\n",
      "             'Runkel': [5.0, 56.0, 5.0, 1.0, 1.0, 2.0],\n",
      "             'Scheibel': [202.0, 0.0, 5.0, 1.0, 1.0, 2.0],\n",
      "             'Schwartz': [1726.0, 250.0, 9.0, 0.0, 0.0, 1.0],\n",
      "             'Stahlberg': [120.0, 120.0, 8.0, 0.0, 1.0, 2.0],\n",
      "             'Stokes': [166.0, 216.0, 9.0, 0.0, 0.0, 3.0],\n",
      "             'Thompson': [202.0, 202.0, 6.0, 1.0, 1.0, 2.0],\n",
      "             'Toepke': [543.0, 840.0, 6.0, 0.0, 1.0, 1.0],\n",
      "             'Wagers': [549.0, 658.0, 5.0, 0.0, 1.0, 3.0],\n",
      "             'Whattam ': [342.0, 344.0, 4.0, 0.0, 0.0, 2.0],\n",
      "             'Williams': [2400.0, 2350.0, 13.0, 0.0, 0.0, 2.0],\n",
      "             'Woods': [901.0, 903.0, 5.0, 0.0, 0.0, 1.0]})\n"
     ]
    }
   ],
   "source": [
    "# Let's just print the data so it's easier to see\n",
    "pprint(student_data)"
   ]
  },
  {
   "cell_type": "code",
   "execution_count": 6,
   "metadata": {},
   "outputs": [
    {
     "name": "stdout",
     "output_type": "stream",
     "text": [
      "3-means:\n",
      "0 : Schwartz\n",
      "0 : Thompson\n",
      "0 : Bankston\n",
      "0 : Barr\n",
      "0 : Gabrielsen\n",
      "0 : Leonard\n",
      "0 : Martin\n",
      "0 : Cerkovnik\n",
      "0 : McNea\n",
      "0 : Runkel\n",
      "0 : Toepke\n",
      "0 : Stokes\n",
      "0 : Danicich\n",
      "0 : Hendricks\n",
      "0 : Anderson\n",
      "0 : Moore\n",
      "0 : Howell\n",
      "0 : Hauer\n",
      "0 : Scheibel\n",
      "0 : Stahlberg\n",
      "0 : Hoffman\n",
      "0 : Phillips\n",
      "0 : Joyner\n",
      "0 : Hettinger\n",
      "0 : Albee\n",
      "0 : Dauenhauer\n",
      "0 : Wagers\n",
      "0 : Whattam \n",
      "0 : Keith\n",
      "0 : Paul\n",
      "0 : Woods\n",
      "0 : Niekamp\n",
      "0 : Parrent\n",
      "0 : Haefele\n",
      "1 : Campestre\n",
      "1 : Bernhard\n",
      "1 : Bu\n",
      "1 : Bosco Louis\n",
      "1 : Ghazouani\n",
      "2 : Williams\n",
      "2 : Fowler\n",
      "2 : Gilbert\n",
      "2 : Connor\n",
      "2 : Nelson\n",
      "2 : Knowlton\n",
      "2 : Fanok\n",
      "2 : Halderman\n",
      "2 : Robertson\n",
      "2 : Engellant\n",
      "2 : Daly\n",
      "[[603.1970588235295, 329.3382352941176, 6.764705882352941, 0.20588235294117646, 0.6470588235294118, 2.441176470588235], [6728.400000000001, 5514.200000000001, 7.0, 0.0, 0.2, 2.0], [2141.818181818182, 1970.3454545454545, 7.772727272727273, 0.09090909090909091, 0.2727272727272727, 2.272727272727273]]\n"
     ]
    }
   ],
   "source": [
    "# Now, let's explore some clusters. Try different values of\n",
    "# k and see what emerges\n",
    "\n",
    "k = 3\n",
    "assignments, means = clustering_code.train_dict(student_data, k)\n",
    "\n",
    "\n",
    "# Sorted version\n",
    "s_assign = ( (k ,assignments[k]) for k in sorted(assignments, key=assignments.get, reverse=False))\n",
    "print( str(k) + \"-means:\")\n",
    "for student, cluster in s_assign :\n",
    "    print(str(cluster) + \" : \" + student)\n",
    "\n",
    "print(means)\n",
    "    "
   ]
  },
  {
   "cell_type": "code",
   "execution_count": 7,
   "metadata": {},
   "outputs": [],
   "source": [
    "# let's re-scale the two mileage columns so that they're in the range of 0 - 1.\n",
    "miles = []\n",
    "for student, vec in student_data.items() :\n",
    "    miles.append(vec[0])\n",
    "    miles.append(vec[1])\n",
    "\n",
    "max_miles = max(miles)\n",
    "min_miles = min(miles)\n",
    "\n",
    "for student, vec in student_data.items() :\n",
    "    vec[0] = (vec[0] - min_miles)/(max_miles - min_miles)    \n",
    "    vec[1] = (vec[1] - min_miles)/(max_miles - min_miles)    \n",
    "\n"
   ]
  },
  {
   "cell_type": "code",
   "execution_count": 8,
   "metadata": {},
   "outputs": [],
   "source": [
    "# Let's make a function that prints the means in a nice way.\n",
    "\n",
    "def pprint_means(the_means) :\n",
    "    var_labels = [\"Birth Dist\",\"Age 15 Dist\",\n",
    "                  \"Post-Secondary\",\"Mkt Major\",\n",
    "                  \"Biz Major\",\"HH Size\"]\n",
    "    for idx, cluster_mean in enumerate(the_means) :\n",
    "        print(\"--- Printing Cluster \" + str(idx) + \" ---\")\n",
    "        \n",
    "        for idx2, item in enumerate(cluster_mean) :\n",
    "            print(\": \".join([var_labels[idx2],str(round(item,2))]))\n",
    "\n",
    "        print(\"----------------------\\n\")\n",
    "            "
   ]
  },
  {
   "cell_type": "code",
   "execution_count": 9,
   "metadata": {},
   "outputs": [
    {
     "name": "stdout",
     "output_type": "stream",
     "text": [
      "5-means:\n",
      "0 : Barr\n",
      "0 : Campestre\n",
      "0 : McNea\n",
      "0 : Toepke\n",
      "0 : Bernhard\n",
      "0 : Phillips\n",
      "0 : Connor\n",
      "0 : Whattam \n",
      "0 : Bosco Louis\n",
      "0 : Paul\n",
      "0 : Engellant\n",
      "0 : Woods\n",
      "0 : Daly\n",
      "1 : Howell\n",
      "1 : Knowlton\n",
      "2 : Gilbert\n",
      "3 : Schwartz\n",
      "3 : Leonard\n",
      "3 : Stokes\n",
      "3 : Williams\n",
      "3 : Fowler\n",
      "3 : Moore\n",
      "3 : Hauer\n",
      "3 : Stahlberg\n",
      "3 : Bu\n",
      "3 : Keith\n",
      "3 : Niekamp\n",
      "4 : Thompson\n",
      "4 : Bankston\n",
      "4 : Gabrielsen\n",
      "4 : Martin\n",
      "4 : Cerkovnik\n",
      "4 : Runkel\n",
      "4 : Danicich\n",
      "4 : Hendricks\n",
      "4 : Anderson\n",
      "4 : Scheibel\n",
      "4 : Hoffman\n",
      "4 : Joyner\n",
      "4 : Hettinger\n",
      "4 : Nelson\n",
      "4 : Fanok\n",
      "4 : Albee\n",
      "4 : Dauenhauer\n",
      "4 : Wagers\n",
      "4 : Halderman\n",
      "4 : Robertson\n",
      "4 : Ghazouani\n",
      "4 : Parrent\n",
      "4 : Haefele\n"
     ]
    }
   ],
   "source": [
    "k = 5\n",
    "assignments, means = clustering_code.train_dict(student_data, k)\n",
    "\n",
    "#assignments = sorted(assignments.items(),\n",
    "#                     key = lambda (student, cluster) : cluster,\n",
    "#                     reverse = False)\n",
    "\n",
    "s_assign = ( (k ,assignments[k]) for k in sorted(assignments, key=assignments.get, reverse=False))\n",
    "print( str(k) + \"-means:\")\n",
    "for student, cluster in s_assign :\n",
    "    print(str(cluster) + \" : \" + student)\n",
    "\n"
   ]
  },
  {
   "cell_type": "code",
   "execution_count": 10,
   "metadata": {},
   "outputs": [
    {
     "name": "stdout",
     "output_type": "stream",
     "text": [
      "--- Printing Cluster 0 ---\n",
      "Birth Dist: 0.31\n",
      "Age 15 Dist: 0.21\n",
      "Post-Secondary: 5.65\n",
      "Mkt Major: 0.0\n",
      "Biz Major: 0.23\n",
      "HH Size: 1.46\n",
      "----------------------\n",
      "\n",
      "--- Printing Cluster 1 ---\n",
      "Birth Dist: 0.15\n",
      "Age 15 Dist: 0.16\n",
      "Post-Secondary: 22.0\n",
      "Mkt Major: 0.0\n",
      "Biz Major: 0.0\n",
      "HH Size: 1.0\n",
      "----------------------\n",
      "\n",
      "--- Printing Cluster 2 ---\n",
      "Birth Dist: 0.19\n",
      "Age 15 Dist: 0.19\n",
      "Post-Secondary: 2.0\n",
      "Mkt Major: 0.0\n",
      "Biz Major: 1.0\n",
      "HH Size: 4.0\n",
      "----------------------\n",
      "\n",
      "--- Printing Cluster 3 ---\n",
      "Birth Dist: 0.18\n",
      "Age 15 Dist: 0.15\n",
      "Post-Secondary: 9.36\n",
      "Mkt Major: 0.09\n",
      "Biz Major: 0.36\n",
      "HH Size: 3.0\n",
      "----------------------\n",
      "\n",
      "--- Printing Cluster 4 ---\n",
      "Birth Dist: 0.12\n",
      "Age 15 Dist: 0.1\n",
      "Post-Secondary: 5.57\n",
      "Mkt Major: 0.3\n",
      "Biz Major: 0.78\n",
      "HH Size: 2.61\n",
      "----------------------\n",
      "\n"
     ]
    }
   ],
   "source": [
    "pprint_means(means)"
   ]
  }
 ],
 "metadata": {
  "kernelspec": {
   "display_name": "Python 3",
   "language": "python",
   "name": "python3"
  },
  "language_info": {
   "codemirror_mode": {
    "name": "ipython",
    "version": 3
   },
   "file_extension": ".py",
   "mimetype": "text/x-python",
   "name": "python",
   "nbconvert_exporter": "python",
   "pygments_lexer": "ipython3",
   "version": "3.12.5"
  }
 },
 "nbformat": 4,
 "nbformat_minor": 1
}
